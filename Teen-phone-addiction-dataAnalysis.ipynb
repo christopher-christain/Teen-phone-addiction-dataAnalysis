{
 "cells": [
  {
   "cell_type": "code",
   "execution_count": null,
   "id": "70ad9a82",
   "metadata": {},
   "outputs": [],
   "source": [
    "import pandas as pd\n",
    "import matplotlib.pyplot as plt\n",
    "import seaborn as sns\n",
    "import numpy as np\n",
    "import warnings\n",
    "%matplotlib inline \n",
    "warnings.filterwarnings(\"ignore\")"
   ]
  },
  {
   "cell_type": "code",
   "execution_count": null,
   "id": "b0969564",
   "metadata": {},
   "outputs": [],
   "source": [
    "data = pd.read_csv(r\"C:\\Users\\User\\Documents\\DATA SCIENCE PROJECT\\teen_phone_addiction_dataset.csv\") \n"
   ]
  },
  {
   "cell_type": "code",
   "execution_count": null,
   "id": "964f821f",
   "metadata": {},
   "outputs": [],
   "source": [
    "data.head(5)"
   ]
  },
  {
   "cell_type": "code",
   "execution_count": null,
   "id": "8bf2c1cc",
   "metadata": {},
   "outputs": [],
   "source": [
    "data.info()"
   ]
  },
  {
   "cell_type": "code",
   "execution_count": null,
   "id": "0e19c630",
   "metadata": {},
   "outputs": [],
   "source": [
    "data.shape"
   ]
  },
  {
   "cell_type": "code",
   "execution_count": null,
   "id": "f5113fdc",
   "metadata": {},
   "outputs": [],
   "source": [
    "data.isnull().sum()"
   ]
  },
  {
   "cell_type": "code",
   "execution_count": null,
   "id": "0bafe4a1",
   "metadata": {},
   "outputs": [],
   "source": [
    "data.describe()"
   ]
  },
  {
   "cell_type": "code",
   "execution_count": null,
   "id": "9b5db00e",
   "metadata": {},
   "outputs": [],
   "source": [
    "data.columns"
   ]
  },
  {
   "cell_type": "code",
   "execution_count": null,
   "id": "ff533b75",
   "metadata": {},
   "outputs": [],
   "source": [
    "data[\"Gender\"].value_counts()"
   ]
  },
  {
   "cell_type": "code",
   "execution_count": null,
   "id": "f0b434f2",
   "metadata": {},
   "outputs": [],
   "source": [
    "data.duplicated().sum()"
   ]
  },
  {
   "cell_type": "code",
   "execution_count": null,
   "id": "d9b0a008",
   "metadata": {},
   "outputs": [],
   "source": [
    "data.isna().sum()"
   ]
  },
  {
   "cell_type": "code",
   "execution_count": null,
   "id": "f83ce38d",
   "metadata": {},
   "outputs": [],
   "source": [
    "data.describe().T"
   ]
  },
  {
   "cell_type": "code",
   "execution_count": null,
   "id": "f086a3e8",
   "metadata": {},
   "outputs": [],
   "source": [
    "data.describe(include = \"object\")"
   ]
  },
  {
   "cell_type": "code",
   "execution_count": null,
   "id": "0566b515",
   "metadata": {},
   "outputs": [],
   "source": [
    "data[\"Name\"].duplicated().sum()"
   ]
  },
  {
   "cell_type": "code",
   "execution_count": null,
   "id": "f2e2a90f",
   "metadata": {},
   "outputs": [],
   "source": [
    "# since Names have 67 duplicates, lets check the duplicates in the names\n",
    "duplicates = data[data[\"Name\"].duplicated(keep=False)]\n",
    "print(duplicates)\n"
   ]
  },
  {
   "cell_type": "code",
   "execution_count": null,
   "id": "f6db6c8a",
   "metadata": {},
   "outputs": [],
   "source": [
    "# List of duplicated names\n",
    "duplicated_names = data[data[\"Name\"].duplicated(keep=False)][\"Name\"].unique()\n",
    "\n",
    "# Display the result\n",
    "print(duplicated_names)\n",
    "\n"
   ]
  },
  {
   "cell_type": "code",
   "execution_count": null,
   "id": "bccc5c08",
   "metadata": {},
   "outputs": [],
   "source": [
    "# Count how many times each name appears\n",
    "name_counts = data[\"Name\"].value_counts()\n",
    "\n",
    "# Filter only names that appear more than once\n",
    "duplicate_name_counts = name_counts[name_counts > 1]\n",
    "\n",
    "print(duplicate_name_counts)\n"
   ]
  },
  {
   "cell_type": "code",
   "execution_count": null,
   "id": "1cdb8f45",
   "metadata": {},
   "outputs": [],
   "source": [
    "# Filter rows where Name is \"John Smith\"\n",
    "Michael_Brown_duplicates = data[data[\"Name\"] == \"Michael Brown\"]\n",
    "\n",
    "# Display the results\n",
    "print(Michael_Brown_duplicates)\n"
   ]
  },
  {
   "cell_type": "code",
   "execution_count": null,
   "id": "0b472b9e",
   "metadata": {},
   "outputs": [],
   "source": [
    "\n",
    "\n",
    "# Step 1: Get duplicated names\n",
    "duplicated_names = data[\"Name\"][data[\"Name\"].duplicated(keep=False)].unique()\n",
    "\n",
    "# Step 2: Filter rows with duplicated names\n",
    "duplicates_df = data[data[\"Name\"].isin(duplicated_names)]\n",
    "\n",
    "# Step 3: Prepare empty list to collect aggregated rows\n",
    "aggregated_rows = []\n",
    "\n",
    "# Step 4: Loop through each duplicated name\n",
    "for name in duplicated_names:\n",
    "    group = duplicates_df[duplicates_df[\"Name\"] == name]\n",
    "    aggregated_row = {\"Name\": name}\n",
    "    \n",
    "    for col in data.columns:\n",
    "        if col == \"Name\":\n",
    "            continue\n",
    "        if pd.api.types.is_numeric_dtype(data[col]):\n",
    "            # Average for numeric columns\n",
    "            aggregated_row[col] = group[col].mean()\n",
    "        else:\n",
    "            # Pick the first (or random) for non-numeric columns\n",
    "            aggregated_row[col] = group[col].iloc[0]  # or np.random.choice(group[col].dropna())\n",
    "    \n",
    "    aggregated_rows.append(aggregated_row)\n",
    "\n",
    "# Step 5: Convert list of dicts to DataFrame\n",
    "aggregated_duplicates = pd.DataFrame(aggregated_rows)\n",
    "\n",
    "# Display result\n",
    "print(aggregated_duplicates)\n"
   ]
  },
  {
   "cell_type": "code",
   "execution_count": null,
   "id": "1e9019ea",
   "metadata": {},
   "outputs": [],
   "source": [
    "# Step 1: Identify duplicated names\n",
    "duplicated_names = data[\"Name\"][data[\"Name\"].duplicated(keep=False)].unique()\n",
    "\n",
    "# Step 2: Remove all rows with duplicated names from the original data\n",
    "data_no_duplicates = data[~data[\"Name\"].isin(duplicated_names)]\n",
    "\n",
    "# Step 3: Append the aggregated duplicates\n",
    "cleaned_data = pd.concat([data_no_duplicates, aggregated_duplicates], ignore_index=True)\n",
    "\n",
    "# Optional: Sort by name or any column if needed\n",
    "cleaned_data = cleaned_data.sort_values(by=\"Name\").reset_index(drop=True)\n",
    "\n",
    "# Final result\n",
    "print(cleaned_data)\n"
   ]
  },
  {
   "cell_type": "code",
   "execution_count": null,
   "id": "aa0ade07",
   "metadata": {},
   "outputs": [],
   "source": [
    "cleaned_data"
   ]
  },
  {
   "cell_type": "code",
   "execution_count": null,
   "id": "6edcad55",
   "metadata": {},
   "outputs": [],
   "source": [
    "cleaned_data.duplicated().sum()"
   ]
  },
  {
   "cell_type": "code",
   "execution_count": null,
   "id": "72d4f543",
   "metadata": {},
   "outputs": [],
   "source": [
    "data.duplicated().sum()"
   ]
  },
  {
   "cell_type": "code",
   "execution_count": null,
   "id": "a07eef4e",
   "metadata": {},
   "outputs": [],
   "source": [
    "data = cleaned_data"
   ]
  },
  {
   "cell_type": "code",
   "execution_count": null,
   "id": "b0ac0276",
   "metadata": {},
   "outputs": [],
   "source": [
    "data"
   ]
  },
  {
   "cell_type": "code",
   "execution_count": null,
   "id": "523d287c",
   "metadata": {},
   "outputs": [],
   "source": [
    "data.drop(columns=[\"ID\"], inplace=True)"
   ]
  },
  {
   "cell_type": "code",
   "execution_count": null,
   "id": "46c2de0c",
   "metadata": {},
   "outputs": [],
   "source": [
    "data.describe().T"
   ]
  },
  {
   "cell_type": "code",
   "execution_count": null,
   "id": "3b506567",
   "metadata": {},
   "outputs": [],
   "source": [
    "# Visualizing with histogram to understand the distribution\n",
    "# Loop through numeric columns\n",
    "for col in data.select_dtypes(include=\"number\").columns:\n",
    "    sns.histplot(data=data, x=col)\n",
    "    plt.title(f\"Histogram of {col}\")\n",
    "    plt.xlabel(col)\n",
    "    plt.ylabel(\"Frequency\")  # <-- Y-axis shows frequency (count)\n",
    "    plt.tight_layout()\n",
    "    plt.show()"
   ]
  },
  {
   "cell_type": "code",
   "execution_count": null,
   "id": "2ae6d4cf",
   "metadata": {},
   "outputs": [],
   "source": [
    "# visualizing with boxplot to identify outliers\n",
    "# Optional: use a consistent style\n",
    "sns.set(style=\"whitegrid\")\n",
    "\n",
    "# Loop through each numeric column\n",
    "numeric_cols = data.select_dtypes(include=\"number\").columns\n",
    "\n",
    "for col in numeric_cols:\n",
    "    plt.figure(figsize=(8, 5))\n",
    "    ax = sns.boxplot(\n",
    "        data=data,\n",
    "        y=col,\n",
    "        color='skyblue',\n",
    "        fliersize=5,         # Size of outlier markers\n",
    "        linewidth=2          # Thickness of box lines\n",
    "    )\n",
    "    \n",
    "    plt.title(f'Boxplot of \"{col}\"', fontsize=14, weight='bold')\n",
    "    plt.ylabel(col, fontsize=12)\n",
    "    plt.xlabel(\"\")  # No x-label since it's vertical\n",
    "    plt.grid(True, linestyle='--', alpha=0.6)\n",
    "    plt.tight_layout()\n",
    "    plt.show()\n"
   ]
  },
  {
   "cell_type": "code",
   "execution_count": null,
   "id": "738ea901",
   "metadata": {},
   "outputs": [],
   "source": [
    "# identifying extreme users based on daily usage hours\n",
    "# Step 1: Calculate IQR and upper bound for outliers\n",
    "Q1 = data[\"Daily_Usage_Hours\"].quantile(0.25)\n",
    "Q3 = data[\"Daily_Usage_Hours\"].quantile(0.75)\n",
    "IQR = Q3 - Q1\n",
    "\n",
    "upper_bound = Q3 + 1.5 * IQR\n",
    "\n",
    "# Step 2: Create a new column to flag extreme users\n",
    "data[\"Extreme_User\"] = data[\"Daily_Usage_Hours\"] > upper_bound\n"
   ]
  },
  {
   "cell_type": "code",
   "execution_count": null,
   "id": "d477ed0b",
   "metadata": {},
   "outputs": [],
   "source": [
    "# to see only extreme users\n",
    "extreme_users = data[data[\"Extreme_User\"] == True]\n",
    "print(extreme_users)\n",
    "\n",
    "# Note that extreme Users are those outliers i.e those with usage hours above the upper band using thr IQR method\n"
   ]
  },
  {
   "cell_type": "code",
   "execution_count": null,
   "id": "8d4ecc4f",
   "metadata": {},
   "outputs": [],
   "source": [
    "data[\"Extreme_User\"].value_counts()\n"
   ]
  },
  {
   "cell_type": "code",
   "execution_count": null,
   "id": "6877e1d9",
   "metadata": {},
   "outputs": [],
   "source": [
    "sns.boxplot(data=data, y=\"Daily_Usage_Hours\", x=\"Extreme_User\", palette=\"Set2\")\n",
    "plt.figure(figsize=(10, 6))\n",
    "plt.title(\"Box plot of daily usage hours by extreme user ststus\")\n",
    "plt.xlabel(\"Extreme User Status\")\n",
    "plt.ylabel(\"Daily Usuage Hours\")\n",
    "plt.show()\n",
    "\n",
    "\n"
   ]
  },
  {
   "cell_type": "code",
   "execution_count": null,
   "id": "d23daccc",
   "metadata": {},
   "outputs": [],
   "source": [
    "data.head(5)"
   ]
  },
  {
   "cell_type": "code",
   "execution_count": null,
   "id": "d4b75051",
   "metadata": {},
   "outputs": [],
   "source": [
    "# we want to check the correlation between the age of the users and their daily usuage hours\n",
    "correlation = data[\"Age\"].corr(data[\"Daily_Usage_Hours\"])\n",
    "print(f\"Correlation between Age and Daily Usage Hours: {correlation:.2f}\")\n"
   ]
  },
  {
   "cell_type": "code",
   "execution_count": null,
   "id": "1a6c0071",
   "metadata": {},
   "outputs": [],
   "source": [
    "# Define age bins and labels\n",
    "bins = [9, 13, 16, 19]  # Must start below the min age\n",
    "labels = ['10-13', '14-16', '17-19']\n",
    "\n",
    "# Create Age_Group column\n",
    "data[\"Age_Group\"] = pd.cut(data[\"Age\"], bins=bins, labels=labels)\n",
    "\n",
    "# View result\n",
    "print(data[[\"Age\", \"Age_Group\"]].head())\n"
   ]
  },
  {
   "cell_type": "code",
   "execution_count": null,
   "id": "49c31f4d",
   "metadata": {},
   "outputs": [],
   "source": [
    "plt.figure(figsize=(8, 5))\n",
    "sns.boxplot(x=\"Age_Group\", y=\"Daily_Usage_Hours\", data=data, palette=\"pastel\")\n",
    "plt.title(\"Daily Phone Usage by Age Group\")\n",
    "plt.xlabel(\"Age Group\")\n",
    "plt.ylabel(\"Daily Usage Hours\")\n",
    "plt.grid(True)\n",
    "plt.tight_layout()\n",
    "plt.show()"
   ]
  },
  {
   "cell_type": "code",
   "execution_count": null,
   "id": "9fada8f1",
   "metadata": {},
   "outputs": [],
   "source": [
    "# Make sure age groups are defined\n",
    "bins = [9, 13, 16, 19]\n",
    "labels = ['10-13', '14-16', '17-19']\n",
    "data[\"Age_Group\"] = pd.cut(data[\"Age\"], bins=bins, labels=labels)\n",
    "\n",
    "# Loop through each group and calculate correlation\n",
    "for group in data[\"Age_Group\"].unique():\n",
    "    subset = data[data[\"Age_Group\"] == group]\n",
    "    \n",
    "    # Skip group if not enough data\n",
    "    if len(subset) < 2:\n",
    "        print(f\"Not enough data to calculate correlation for group: {group}\")\n",
    "        continue\n",
    "    \n",
    "    correlation = subset[\"Age\"].corr(subset[\"Daily_Usage_Hours\"])\n",
    "    print(f\"Correlation for Age Group {group}: {correlation:.2f}\")\n",
    "\n"
   ]
  },
  {
   "cell_type": "markdown",
   "id": "253fb0ea",
   "metadata": {},
   "source": [
    "There are no correlation between the Age and Daily Usuage hour\n"
   ]
  },
  {
   "cell_type": "code",
   "execution_count": null,
   "id": "31003f77",
   "metadata": {},
   "outputs": [],
   "source": [
    "\n",
    "# Step 1: Define age groups (if not already done)\n",
    "bins = [9, 13, 16, 19]\n",
    "labels = ['10-13', '14-16', '17-19']\n",
    "data[\"Age_Group\"] = pd.cut(data[\"Age\"], bins=bins, labels=labels)\n",
    "\n",
    "# Step 2: Create regression plots for each group\n",
    "age_groups = data[\"Age_Group\"].dropna().unique()\n",
    "\n",
    "# Set up subplots\n",
    "fig, axes = plt.subplots(nrows=1, ncols=len(age_groups), figsize=(18, 5), sharey=True)\n",
    "\n",
    "# Step 3: Loop through each group and plot\n",
    "for i, group in enumerate(age_groups):\n",
    "    subset = data[data[\"Age_Group\"] == group]\n",
    "    \n",
    "    sns.regplot(\n",
    "        x=\"Age\",\n",
    "        y=\"Daily_Usage_Hours\",\n",
    "        data=subset,\n",
    "        ax=axes[i],\n",
    "        scatter_kws={\"alpha\": 0.6},\n",
    "        line_kws={\"color\": \"red\"}\n",
    "    )\n",
    "    \n",
    "    axes[i].set_title(f\"Age Group {group}\")\n",
    "    axes[i].set_xlabel(\"Age\")\n",
    "    axes[i].set_ylabel(\"Daily Usage Hours\")\n",
    "    axes[i].grid(True)\n",
    "\n",
    "plt.tight_layout()\n",
    "plt.suptitle(\"Regression of Age vs. Daily Phone Usage in Each Age Group\", fontsize=16, y=1.05)\n",
    "plt.show()\n"
   ]
  },
  {
   "cell_type": "code",
   "execution_count": null,
   "id": "06cd00ca",
   "metadata": {},
   "outputs": [],
   "source": [
    "plt.figure(figsize=(12, 10))  # Set figure size before plotting\n",
    "corr_matrix = data.corr(numeric_only=True)\n",
    "sns.heatmap(corr_matrix, annot=True, fmt = \".2f\", cmap=\"coolwarm\")\n",
    "plt.title(\"Correlation Matrix\")\n",
    "plt.show()\n"
   ]
  },
  {
   "cell_type": "code",
   "execution_count": 92,
   "id": "30253cb8",
   "metadata": {},
   "outputs": [
    {
     "data": {
      "text/plain": [
       "Index(['Name', 'Age', 'Gender', 'Location', 'School_Grade',\n",
       "       'Daily_Usage_Hours', 'Sleep_Hours', 'Academic_Performance',\n",
       "       'Social_Interactions', 'Exercise_Hours', 'Anxiety_Level',\n",
       "       'Depression_Level', 'Self_Esteem', 'Parental_Control',\n",
       "       'Screen_Time_Before_Bed', 'Phone_Checks_Per_Day', 'Apps_Used_Daily',\n",
       "       'Time_on_Social_Media', 'Time_on_Gaming', 'Time_on_Education',\n",
       "       'Phone_Usage_Purpose', 'Family_Communication', 'Weekend_Usage_Hours',\n",
       "       'Addiction_Level', 'Extreme_User', 'Age_Group'],\n",
       "      dtype='object')"
      ]
     },
     "execution_count": 92,
     "metadata": {},
     "output_type": "execute_result"
    }
   ],
   "source": [
    "data.columns\n"
   ]
  },
  {
   "cell_type": "markdown",
   "id": "1a2ebc06",
   "metadata": {},
   "source": [
    "## EXPLORATORY DATA ANALYSIS\n",
    "\n",
    "# STEP!: CORRELATION BETWEEN NUMERICAL COLUMNS  AND ADDICTION LEVEL"
   ]
  },
  {
   "cell_type": "code",
   "execution_count": null,
   "id": "006f17d1",
   "metadata": {},
   "outputs": [],
   "source": [
    "# Select only numerical columns\n",
    "numerical_cols = data.select_dtypes(include=\"number\").columns\n",
    "\n",
    "# Exclude Addiction_Level from being compared with itself\n",
    "numerical_cols = numerical_cols.drop(\"Addiction_Level\", errors='ignore')\n",
    "\n",
    "# Store results in a dictionary\n",
    "correlations = {}\n",
    "\n",
    "for col in numerical_cols:\n",
    "    corr_value = data[\"Addiction_Level\"].corr(data[col])\n",
    "    correlations[col] = corr_value\n",
    "\n",
    "# Convert to DataFrame for better readability\n",
    "correlation_df = pd.DataFrame.from_dict(correlations, orient='index', columns=[\"Correlation_with_Addiction_Level\"])\n",
    "correlation_df = correlation_df.sort_values(by=\"Correlation_with_Addiction_Level\", ascending=False)\n",
    "\n",
    "# Display the results\n",
    "print(correlation_df)\n"
   ]
  },
  {
   "cell_type": "code",
   "execution_count": null,
   "id": "7f6aaeef",
   "metadata": {},
   "outputs": [],
   "source": [
    "\n",
    "\n",
    "# Step 1: Get numeric columns and exclude the target\n",
    "numerical_cols = data.select_dtypes(include=\"number\").columns\n",
    "numerical_cols = numerical_cols.drop(\"Addiction_Level\", errors='ignore')\n",
    "\n",
    "# Step 2: Compute correlations\n",
    "correlations = {\n",
    "    col: data[\"Addiction_Level\"].corr(data[col])\n",
    "    for col in numerical_cols\n",
    "}\n",
    "\n",
    "# Step 3: Filter for only positive correlations ≥ 0.2\n",
    "positive_corrs = {\n",
    "    col: corr for col, corr in correlations.items()\n",
    "    if corr >= 0.2\n",
    "}\n",
    "\n",
    "# Step 4: Plot regression plots for the filtered columns\n",
    "for col in positive_corrs:\n",
    "    plt.figure(figsize=(7, 5))\n",
    "    sns.regplot(\n",
    "        x=col,\n",
    "        y=\"Addiction_Level\",\n",
    "        data=data,\n",
    "        scatter_kws={\"alpha\": 0.5},\n",
    "        line_kws={\"color\": \"red\"},\n",
    "    )\n",
    "    plt.title(f\"Regression Plot: {col} vs. Addiction_Level\\nCorrelation = {positive_corrs[col]:.2f}\")\n",
    "    plt.xlabel(col)\n",
    "    plt.ylabel(\"Addiction_Level\")\n",
    "    plt.grid(True)\n",
    "    plt.tight_layout()\n",
    "    plt.show()\n",
    "\n",
    "\n"
   ]
  },
  {
   "cell_type": "code",
   "execution_count": null,
   "id": "ffcf03f4",
   "metadata": {},
   "outputs": [],
   "source": [
    "# WE want to check the correlation between addiction level and other numerical columns\n",
    "# define the columns to check\n",
    "cols_to_check = [\"Academic_Performance\", \"Self_Esteem\", \"Depression_Level\"]\n",
    "correlations = {}\n",
    "\n",
    "for col in cols_to_check:\n",
    "    if col in data.columns:\n",
    "        corr = data[\"Addiction_Level\"].corr(data[col])\n",
    "        correlations[col] = corr\n",
    "\n",
    "# Print results\n",
    "print(\"Correlation with Addiction_Level:\")\n",
    "for k, v in correlations.items():\n",
    "    direction = \"↑\" if v > 0 else \"↓\"\n",
    "    print(f\"{k}: {v:.2f} {direction}\")\n"
   ]
  },
  {
   "cell_type": "markdown",
   "id": "46fa9497",
   "metadata": {},
   "source": [
    "## MODEL DVELOPMENT\n",
    "<H2> <b>Predict Addiction Level using regression </b> </H2>"
   ]
  },
  {
   "cell_type": "code",
   "execution_count": 93,
   "id": "9311ad59",
   "metadata": {},
   "outputs": [
    {
     "name": "stdout",
     "output_type": "stream",
     "text": [
      "Test MSE: 0.79\n",
      "Test R^2 Score: 0.68\n"
     ]
    }
   ],
   "source": [
    "from sklearn.model_selection import train_test_split\n",
    "from sklearn.linear_model import LinearRegression\n",
    "from sklearn.metrics import mean_squared_error, r2_score\n",
    "\n",
    "# Model Development: Predict Addiction_Level using regression\n",
    "\n",
    "\n",
    "# Select features and target\n",
    "features = ['Phone_Checks_Per_Day', 'Apps_Used_Daily', 'Time_on_Social_Media',\n",
    "            'Daily_Usage_Hours', 'Time_on_Gaming']\n",
    "target = 'Addiction_Level'\n",
    "\n",
    "X = data[features]\n",
    "y = data[target]\n",
    "\n",
    "# Split data into train and test sets\n",
    "X_train, X_test, y_train, y_test = train_test_split(X, y, test_size=0.2, random_state=42)\n",
    "\n",
    "# Initialize and train the regression model\n",
    "reg = LinearRegression()\n",
    "reg.fit(X_train, y_train)\n",
    "\n",
    "# Predict on test set\n",
    "y_pred = reg.predict(X_test)\n",
    "\n",
    "# Evaluate model\n",
    "mse = mean_squared_error(y_test, y_pred)\n",
    "r2 = r2_score(y_test, y_pred)\n",
    "\n",
    "print(f\"Test MSE: {mse:.2f}\")\n",
    "print(f\"Test R^2 Score: {r2:.2f}\")"
   ]
  },
  {
   "cell_type": "code",
   "execution_count": null,
   "id": "6daa2229",
   "metadata": {},
   "outputs": [],
   "source": []
  }
 ],
 "metadata": {
  "kernelspec": {
   "display_name": "base",
   "language": "python",
   "name": "python3"
  },
  "language_info": {
   "codemirror_mode": {
    "name": "ipython",
    "version": 3
   },
   "file_extension": ".py",
   "mimetype": "text/x-python",
   "name": "python",
   "nbconvert_exporter": "python",
   "pygments_lexer": "ipython3",
   "version": "3.12.7"
  }
 },
 "nbformat": 4,
 "nbformat_minor": 5
}
